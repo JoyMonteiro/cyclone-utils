{
 "cells": [
  {
   "cell_type": "code",
   "execution_count": 1,
   "metadata": {
    "collapsed": true
   },
   "outputs": [],
   "source": [
    "import datreant.core as dtr\n",
    "import xarray\n",
    "\n",
    "from datreant.core.limbs import Limb\n",
    "from datreant.core.agglimbs import AggLimb"
   ]
  },
  {
   "cell_type": "markdown",
   "metadata": {},
   "source": [
    "Import some libraries and helper classes.\n",
    "\n",
    "Architecturally, _datreant_ allows creation of a tree-based representation of the\n",
    "filesystem. In addition, it allows addition of arbitrary functionality in the \n",
    "form of helper classes called **Limb** and **AggLimb**.\n",
    "\n",
    "These classes can be attached to any node in the tree automatically, and certain\n",
    "code can be executed. This allows me to read the NC files in these directories\n",
    "and create metadata. _datreant_ already has infrastructure for reading and writing\n",
    "metadata, and I just use that.\n",
    "\n",
    "**Limb** is attached to every **Treant** object corresponding to a single directory.\n",
    "**AggLimb** is attached to a **Bundle** of **Treant**s, and gives an aggregate\n",
    "view of all directories below the root directory which contain **Treant** metadata."
   ]
  },
  {
   "cell_type": "code",
   "execution_count": 2,
   "metadata": {
    "collapsed": true
   },
   "outputs": [],
   "source": [
    "class NcVariableTags(Limb):\n",
    "\n",
    "    _name = 'variables'\n",
    "\n",
    "    def __init__(self, treant):\n",
    "\n",
    "        super(NcVariableTags, self).__init__(treant)\n",
    "        print treant.leaves\n",
    "        # init state if tags not already there;\n",
    "        # if read-only, check that they are there,\n",
    "        # and raise exception if they are not\n",
    "        try:\n",
    "            with self._treant._write:\n",
    "                try:\n",
    "                    self._treant._state['variables']\n",
    "                except KeyError:\n",
    "                    self._treant._state['variables'] = dict()\n",
    "\n",
    "                #Create a new attribute for each Treant called\n",
    "                #variables. This is a dictionary, which I will use\n",
    "                # to store attributes of variables in netCDF files.\n",
    "                # I use xarray to obtain the attributes, and do not\n",
    "                # store duplicate attributes. I also store which\n",
    "                # files contain this particular variable.\n",
    "                variable_dict = self._treant._state['variables']\n",
    "                for leaf in treant.leaves.abspaths:\n",
    "                    try:\n",
    "                        data_set = xarray.open_dataset(leaf)\n",
    "                        for variable in data_set.variables:\n",
    "                           \n",
    "                            if variable not in variable_dict:\n",
    "                                variable_dict[variable] = dict()\n",
    "\n",
    "                            if 'file_name' not in variable_dict[variable]:\n",
    "                                variable_dict[variable]['file_name'] = []\n",
    "                            \n",
    "                            if leaf not in variable_dict[variable]['file_name']:\n",
    "                                variable_dict[variable]['file_name'].append(leaf)\n",
    "\n",
    "                            for attribute in data_set.variables[variable].attrs:\n",
    "\n",
    "                                if attribute not in variable_dict[variable]:\n",
    "                                    variable_dict[variable][attribute] = []\n",
    "\n",
    "                                if str(data_set[variable].attrs[attribute]) not in variable_dict[variable][attribute]:\n",
    "\n",
    "                                    variable_dict[variable][attribute]\\\n",
    "                                        .append(str(data_set[variable].attrs[attribute]))\n",
    "                        \n",
    "                        data_set.close()\n",
    "\n",
    "                    except IOError:\n",
    "                        pass\n",
    "\n",
    "        except (IOError, OSError):\n",
    "            with self._treant._read:\n",
    "                try:\n",
    "                    self._treant._state['variables']\n",
    "                except KeyError:\n",
    "                    raise KeyError(\n",
    "                            (\"Missing 'variables' data, and cannot write to \"\n",
    "                             \"Treant '{}'\".format(self._treant.filepath)))\n",
    "\n",
    "\n",
    "    \n",
    "    def __repr__(self):\n",
    "        '''Pretty printing the contents'''\n",
    "\n",
    "        with self._treant._read:\n",
    "            return str(self._dict().keys())\n",
    "\n",
    "    def keys(self):\n",
    "\n",
    "        return self._dict().keys()\n",
    "\n",
    "    def __getitem__(self, keys):\n",
    "        '''Allow a dict interface to the variable attribute'''\n",
    "\n",
    "        variables = self._dict()\n",
    "\n",
    "        return variables[keys]\n",
    "\n",
    "\n",
    "    def _dict(self):\n",
    "\n",
    "        with self._treant._read:\n",
    "            return self._treant._state['variables']"
   ]
  },
  {
   "cell_type": "code",
   "execution_count": 3,
   "metadata": {
    "collapsed": true
   },
   "outputs": [],
   "source": [
    "\n",
    "class NcAggVariableTags(AggLimb):\n",
    "\n",
    "    _name = 'variables'\n",
    "\n",
    "    def __init__(self, collection):\n",
    "        super(NcAggVariableTags, self).__init__(collection)\n",
    "\n",
    "    def __repr__(self):\n",
    "        return \"NcVariables:<{}>\".format(list(self.all))\n",
    "\n",
    "    @property\n",
    "    def all(self):\n",
    "\n",
    "        variables = [set(member.variables.keys()) for member in self._collection]\n",
    "        return variables"
   ]
  },
  {
   "cell_type": "markdown",
   "metadata": {},
   "source": [
    "The following two lines attach my classes to the **Treant** and **Bundle** classes.\n",
    "Therefore, everytime a new **Treant** or **Bundle** object is instantiated, my\n",
    "classes are also bound to them."
   ]
  },
  {
   "cell_type": "code",
   "execution_count": 5,
   "metadata": {
    "collapsed": true
   },
   "outputs": [],
   "source": [
    "dtr.Treant._attach_limb_class(NcVariableTags)\n",
    "dtr.Bundle._attach_agglimb_class(NcAggVariableTags)"
   ]
  },
  {
   "cell_type": "markdown",
   "metadata": {},
   "source": [
    "Just using some example datasets for the purpose of illustrating how things might work. No **datreant** metadata files are created yet, this is a clean folder."
   ]
  },
  {
   "cell_type": "code",
   "execution_count": 7,
   "metadata": {
    "collapsed": false
   },
   "outputs": [
    {
     "name": "stdout",
     "output_type": "stream",
     "text": [
      "\u001b[0m\u001b[01;34mAMSU\u001b[0m/  \u001b[01;34mCERES\u001b[0m/  \u001b[01;34mDailyFields\u001b[0m/  \u001b[01;34mERSST\u001b[0m/  \u001b[01;34mISCCPClouds\u001b[0m/  \u001b[01;34mmoistGill\u001b[0m/\r\n"
     ]
    }
   ],
   "source": [
    "ls ../data"
   ]
  },
  {
   "cell_type": "code",
   "execution_count": 8,
   "metadata": {
    "collapsed": true
   },
   "outputs": [],
   "source": [
    "data_dir = dtr.Treant('../data/AMSU')"
   ]
  },
  {
   "cell_type": "markdown",
   "metadata": {},
   "source": [
    "(not very!) Pretty print what variables are contained in the NC files in this folder."
   ]
  },
  {
   "cell_type": "code",
   "execution_count": 10,
   "metadata": {
    "collapsed": false
   },
   "outputs": [
    {
     "data": {
      "text/plain": [
       "[u'target_factor_values', u'BTemp', u'ttt', u'brightness_temperature_anomaly', u'satellites_used', u'climatology_time_bounds', u'tmt', u'longitude_bounds', u'time_bounds', u'msu_amsu_offsets', u'lon', u'offset_values', u'latitude', u'satnum', u'latitude_bounds', u'bnds', u'brightness_temperature', u'tb_factor_values', u'climatology_time', u'lat', u'tls', u'brightness_temperature_climatology', u'tlt', u'longitude', u'time']"
      ]
     },
     "execution_count": 10,
     "metadata": {},
     "output_type": "execute_result"
    }
   ],
   "source": [
    "data_dir.variables"
   ]
  },
  {
   "cell_type": "markdown",
   "metadata": {},
   "source": [
    "See what files have certain variables, and what attributes they define:"
   ]
  },
  {
   "cell_type": "code",
   "execution_count": 12,
   "metadata": {
    "collapsed": false
   },
   "outputs": [
    {
     "data": {
      "text/plain": [
       "{u'_CoordinateAxisType': [u'Lon'],\n",
       " u'axis': [u'X'],\n",
       " u'bounds': [u'longitude_bounds'],\n",
       " u'coordinate_defines': [u'center'],\n",
       " u'file_name': [u'/home/joymm/github/data/AMSU/uat4_tb_v03r03_anom_chtls_197812_201406.nc3.nc',\n",
       "  u'/home/joymm/github/data/AMSU/uat4_tb_v03r03_anom_chtlt_197812_201406.nc3.nc',\n",
       "  u'/home/joymm/github/data/AMSU/uat4_tb_v03r03_anom_chtmt_197812_201406.nc3.nc',\n",
       "  u'/home/joymm/github/data/AMSU/uat4_tb_v03r03_anom_chtts_198701_201406.nc3.nc',\n",
       "  u'/home/joymm/github/data/AMSU/uat4_tb_v03r03_avrg_chtls_197812_201406.nc3.nc',\n",
       "  u'/home/joymm/github/data/AMSU/uat4_tb_v03r03_avrg_chtlt_197812_201406.nc3.nc',\n",
       "  u'/home/joymm/github/data/AMSU/uat4_tb_v03r03_avrg_chtmt_197812_201406.nc3.nc',\n",
       "  u'/home/joymm/github/data/AMSU/uat4_tb_v03r03_avrg_chtts_198701_201406.nc3.nc'],\n",
       " u'long_name': [u'longitude'],\n",
       " u'standard_name': [u'longitude'],\n",
       " u'units': [u'degrees_east'],\n",
       " u'valid_max': [u'180.0'],\n",
       " u'valid_min': [u'-180.0']}"
      ]
     },
     "execution_count": 12,
     "metadata": {},
     "output_type": "execute_result"
    }
   ],
   "source": [
    "data_dir.variables['longitude']"
   ]
  },
  {
   "cell_type": "code",
   "execution_count": 14,
   "metadata": {
    "collapsed": false
   },
   "outputs": [
    {
     "data": {
      "text/plain": [
       "{u'_CoordinateAxisType': [u'Time'],\n",
       " u'axis': [u'T'],\n",
       " u'bounds': [u'time_bounds'],\n",
       " u'file_name': [u'/home/joymm/github/data/AMSU/UWMSU_L3_absolute_merged.nc',\n",
       "  u'/home/joymm/github/data/AMSU/uat4_tb_v03r03_anom_chtls_197812_201406.nc3.nc',\n",
       "  u'/home/joymm/github/data/AMSU/uat4_tb_v03r03_anom_chtlt_197812_201406.nc3.nc',\n",
       "  u'/home/joymm/github/data/AMSU/uat4_tb_v03r03_anom_chtmt_197812_201406.nc3.nc',\n",
       "  u'/home/joymm/github/data/AMSU/uat4_tb_v03r03_anom_chtts_198701_201406.nc3.nc',\n",
       "  u'/home/joymm/github/data/AMSU/uat4_tb_v03r03_avrg_chtls_197812_201406.nc3.nc',\n",
       "  u'/home/joymm/github/data/AMSU/uat4_tb_v03r03_avrg_chtlt_197812_201406.nc3.nc',\n",
       "  u'/home/joymm/github/data/AMSU/uat4_tb_v03r03_avrg_chtmt_197812_201406.nc3.nc',\n",
       "  u'/home/joymm/github/data/AMSU/uat4_tb_v03r03_avrg_chtts_198701_201406.nc3.nc',\n",
       "  u'/home/joymm/github/data/AMSU/xinyao.nc'],\n",
       " u'long_name': [u'time'],\n",
       " u'standard_name': [u'time'],\n",
       " u'valid_max': [u'20000.0'],\n",
       " u'valid_min': [u'0.0']}"
      ]
     },
     "execution_count": 14,
     "metadata": {},
     "output_type": "execute_result"
    }
   ],
   "source": [
    "data_dir.variables['time']"
   ]
  },
  {
   "cell_type": "markdown",
   "metadata": {},
   "source": [
    "More files contain the variable **time** than **longitude**. The others contain **lon** instead."
   ]
  },
  {
   "cell_type": "code",
   "execution_count": 15,
   "metadata": {
    "collapsed": true
   },
   "outputs": [],
   "source": [
    "another_data_dir = dtr.Treant('../data/CERES/')"
   ]
  },
  {
   "cell_type": "code",
   "execution_count": 16,
   "metadata": {
    "collapsed": false
   },
   "outputs": [
    {
     "name": "stdout",
     "output_type": "stream",
     "text": [
      "<- View ->\n",
      "  ../data/CERES/CERES_EBAF-Surface_Ed2.8_Subset_200003-201311.nc\n",
      "  ../data/CERES/CERES_EBAF-Surface_Ed2.8_Subset_CLIM01-CLIM12.nc\n",
      "  ../data/CERES/CERES_EBAF-TOA_Ed2.8_Subset_200003-201404.nc\n",
      "  ../data/CERES/CERES_EBAF-TOA_Ed2.8_Subset_200003-201410.nc\n",
      "  ../data/CERES/CERES_EBAF-TOA_Ed2.8_Subset_CLIM01-CLIM12.nc\n",
      "  ../data/CERES/Pacific_SST_star_PC1.txt\n",
      "  ../data/CERES/Treant.b7cf9539-da1a-4e30-9d7e-4c516730a817.json\n",
      "  ../data/CERES/myCmap.py\n",
      "  ../data/CERES/myCmap.pyc\n",
      "  ../data/CERES/weightedMean-SFC.py\n",
      "  ../data/CERES/weightedMean-TOA.py\n",
      "<- ---- ->\n"
     ]
    },
    {
     "data": {
      "text/plain": [
       "[u'toa_lw_clr_mon', u'lon', u'sfc_net_tot_clr_mon', u'toa_sw_clr_mon', u'sc2', u'toa_sw_all_mon', u'toa_sw_all_clim', u'sfc_net_sw_clr_clim', u'toa_lw_all_clim', u'sfc_net_lw_clr_clim', u'sfc_net_lw_all_clim', u'toa_net_all_clim', u'climatology_bounds', u'sfc_net_lw_all_mon', u'toa_net_all_mon', u'lat', u'sc1', u'toa_lw_all_mon', u'sfc_net_tot_all_clim', u'ctime', u'sfc_net_tot_clr_clim', u'sfc_net_lw_clr_mon', u'sfc_net_tot_all_mon', u'solar_mon', u'sfc_net_sw_all_mon', u'toa_net_clr_mon', u'time', u'sfc_net_sw_all_clim', u'solar_clim', u'sfc_net_sw_clr_mon']"
      ]
     },
     "execution_count": 16,
     "metadata": {},
     "output_type": "execute_result"
    }
   ],
   "source": [
    "another_data_dir.variables"
   ]
  },
  {
   "cell_type": "code",
   "execution_count": 17,
   "metadata": {
    "collapsed": false
   },
   "outputs": [
    {
     "data": {
      "text/plain": [
       "{u'delta_t': [u'0000-00-01 00:00:00'],\n",
       " u'file_name': [u'/home/joymm/github/data/CERES/CERES_EBAF-Surface_Ed2.8_Subset_200003-201311.nc',\n",
       "  u'/home/joymm/github/data/CERES/CERES_EBAF-TOA_Ed2.8_Subset_200003-201404.nc',\n",
       "  u'/home/joymm/github/data/CERES/CERES_EBAF-TOA_Ed2.8_Subset_200003-201410.nc'],\n",
       " u'long_name': [u'time']}"
      ]
     },
     "execution_count": 17,
     "metadata": {},
     "output_type": "execute_result"
    }
   ],
   "source": [
    "another_data_dir.variables['time']"
   ]
  },
  {
   "cell_type": "markdown",
   "metadata": {},
   "source": [
    "Most files are climatologies, and they don't contain the dimension **time**.\n",
    "\n",
    "Now that we have created two **Treant** directories, we can automatically access them using a **Bundle**."
   ]
  },
  {
   "cell_type": "code",
   "execution_count": 18,
   "metadata": {
    "collapsed": true
   },
   "outputs": [],
   "source": [
    "data_store = dtr.discover('../data')"
   ]
  },
  {
   "cell_type": "code",
   "execution_count": 20,
   "metadata": {
    "collapsed": false
   },
   "outputs": [
    {
     "data": {
      "text/plain": [
       "<Bundle([<Treant: 'AMSU'>, <Treant: 'CERES'>])>"
      ]
     },
     "execution_count": 20,
     "metadata": {},
     "output_type": "execute_result"
    }
   ],
   "source": [
    "data_store"
   ]
  },
  {
   "cell_type": "code",
   "execution_count": 19,
   "metadata": {
    "collapsed": false
   },
   "outputs": [
    {
     "name": "stdout",
     "output_type": "stream",
     "text": [
      "<- View ->\n",
      "  ../data/AMSU/Treant.02975624-62e3-40da-b718-85fe49052eda.json\n",
      "  ../data/AMSU/UWMSU_L3_absolute_merged.nc\n",
      "  ../data/AMSU/uat4_tb_v03r03_anom_chtls_197812_201406.nc3.nc\n",
      "  ../data/AMSU/uat4_tb_v03r03_anom_chtlt_197812_201406.nc3.nc\n",
      "  ../data/AMSU/uat4_tb_v03r03_anom_chtmt_197812_201406.nc3.nc\n",
      "  ../data/AMSU/uat4_tb_v03r03_anom_chtts_198701_201406.nc3.nc\n",
      "  ../data/AMSU/uat4_tb_v03r03_avrg_chtls_197812_201406.nc3.nc\n",
      "  ../data/AMSU/uat4_tb_v03r03_avrg_chtlt_197812_201406.nc3.nc\n",
      "  ../data/AMSU/uat4_tb_v03r03_avrg_chtmt_197812_201406.nc3.nc\n",
      "  ../data/AMSU/uat4_tb_v03r03_avrg_chtts_198701_201406.nc3.nc\n",
      "  ../data/AMSU/xinyao.nc\n",
      "<- ---- ->\n",
      "<- View ->\n",
      "  ../data/CERES/CERES_EBAF-Surface_Ed2.8_Subset_200003-201311.nc\n",
      "  ../data/CERES/CERES_EBAF-Surface_Ed2.8_Subset_CLIM01-CLIM12.nc\n",
      "  ../data/CERES/CERES_EBAF-TOA_Ed2.8_Subset_200003-201404.nc\n",
      "  ../data/CERES/CERES_EBAF-TOA_Ed2.8_Subset_200003-201410.nc\n",
      "  ../data/CERES/CERES_EBAF-TOA_Ed2.8_Subset_CLIM01-CLIM12.nc\n",
      "  ../data/CERES/Pacific_SST_star_PC1.txt\n",
      "  ../data/CERES/Treant.b7cf9539-da1a-4e30-9d7e-4c516730a817.json\n",
      "  ../data/CERES/myCmap.py\n",
      "  ../data/CERES/myCmap.pyc\n",
      "  ../data/CERES/weightedMean-SFC.py\n",
      "  ../data/CERES/weightedMean-TOA.py\n",
      "<- ---- ->\n"
     ]
    },
    {
     "data": {
      "text/plain": [
       "NcVariables:<[set([u'target_factor_values', u'BTemp', u'ttt', u'brightness_temperature_anomaly', u'satellites_used', u'climatology_time_bounds', u'tmt', u'longitude_bounds', u'time_bounds', u'msu_amsu_offsets', u'lon', u'offset_values', u'latitude', u'satnum', u'latitude_bounds', u'bnds', u'brightness_temperature', u'tb_factor_values', u'climatology_time', u'lat', u'tls', u'brightness_temperature_climatology', u'tlt', u'longitude', u'time']), set([u'toa_lw_clr_mon', u'lon', u'sfc_net_tot_clr_mon', u'toa_sw_clr_mon', u'sc2', u'toa_sw_all_mon', u'toa_sw_all_clim', u'sfc_net_sw_clr_clim', u'toa_lw_all_clim', u'sfc_net_lw_clr_clim', u'sfc_net_lw_all_clim', u'toa_net_all_clim', u'climatology_bounds', u'sfc_net_lw_all_mon', u'toa_net_all_mon', u'lat', u'sc1', u'toa_lw_all_mon', u'sfc_net_tot_all_clim', u'ctime', u'sfc_net_tot_clr_clim', u'sfc_net_lw_clr_mon', u'sfc_net_tot_all_mon', u'solar_mon', u'sfc_net_sw_all_mon', u'toa_net_clr_mon', u'time', u'sfc_net_sw_all_clim', u'solar_clim', u'sfc_net_sw_clr_mon'])]>"
      ]
     },
     "execution_count": 19,
     "metadata": {},
     "output_type": "execute_result"
    }
   ],
   "source": [
    "data_store.variables"
   ]
  },
  {
   "cell_type": "markdown",
   "metadata": {},
   "source": [
    "This **Bundle** contains information about all variables in the two directories.\n",
    "\n",
    "The nice thing is that a lot of the \"infrastructure\" code is already contained within\n",
    "**datreant**, and we can focus on building the functionality that we need for our\n",
    "purposes."
   ]
  }
 ],
 "metadata": {
  "kernelspec": {
   "display_name": "Python 2",
   "language": "python",
   "name": "python2"
  },
  "language_info": {
   "codemirror_mode": {
    "name": "ipython",
    "version": 2
   },
   "file_extension": ".py",
   "mimetype": "text/x-python",
   "name": "python",
   "nbconvert_exporter": "python",
   "pygments_lexer": "ipython2",
   "version": "2.7.12"
  }
 },
 "nbformat": 4,
 "nbformat_minor": 0
}
